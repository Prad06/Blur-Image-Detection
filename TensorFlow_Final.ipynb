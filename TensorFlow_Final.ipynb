{
  "nbformat": 4,
  "nbformat_minor": 0,
  "metadata": {
    "colab": {
      "name": "TensorFlow_Final.ipynb",
      "provenance": [],
      "collapsed_sections": [],
      "toc_visible": true
    },
    "kernelspec": {
      "name": "python3",
      "display_name": "Python 3"
    }
  },
  "cells": [
    {
      "cell_type": "code",
      "metadata": {
        "id": "CAASBf_xWtPe"
      },
      "source": [
        "import numpy as np\n",
        "import pandas as pd\n",
        "import os\n",
        "import pickle\n",
        "from keras.models import Sequential\n",
        "from keras.layers.convolutional import Convolution2D\n",
        "from keras.layers.pooling import MaxPooling2D\n",
        "from keras.layers.core import Flatten, Dense, Activation, Dropout\n",
        "from keras.preprocessing import image\n",
        "from keras.utils.np_utils import to_categorical\n",
        "from sklearn.metrics import accuracy_score"
      ],
      "execution_count": null,
      "outputs": []
    },
    {
      "cell_type": "code",
      "metadata": {
        "id": "HBorSSipmkam"
      },
      "source": [
        "input_size = (96, 96)"
      ],
      "execution_count": null,
      "outputs": []
    },
    {
      "cell_type": "code",
      "metadata": {
        "id": "3DFFengqmnxV"
      },
      "source": [
        "with open('X_train.pkl', 'rb') as picklefile:\n",
        "    X_train = pickle.load( picklefile)"
      ],
      "execution_count": null,
      "outputs": []
    },
    {
      "cell_type": "code",
      "metadata": {
        "id": "cIOu4Fq4mqRF"
      },
      "source": [
        "with open('y_train.pkl', 'rb') as picklefile:\n",
        "    y_train = pickle.load( picklefile)"
      ],
      "execution_count": null,
      "outputs": []
    },
    {
      "cell_type": "code",
      "metadata": {
        "id": "VBE7bEp7msAN"
      },
      "source": [
        "with open('X_test.pkl', 'rb') as picklefile:\n",
        "    X_test = pickle.load(picklefile)"
      ],
      "execution_count": null,
      "outputs": []
    },
    {
      "cell_type": "code",
      "metadata": {
        "id": "4yeZTqY4muKA"
      },
      "source": [
        "with open('y_test.pkl', 'rb') as picklefile:\n",
        "    y_test = pickle.load(picklefile)"
      ],
      "execution_count": null,
      "outputs": []
    },
    {
      "cell_type": "code",
      "metadata": {
        "id": "9ODch-OFCaW4"
      },
      "source": [
        "model = Sequential()\n",
        "model.add(Convolution2D(32, (5, 5), input_shape=(input_size[0], input_size[1], 3), border_mode='same'))\n",
        "model.add(Activation(\"relu\"))\n",
        "model.add(MaxPooling2D(pool_size=(2, 2)))\n",
        "\n",
        "model.add(Convolution2D(64, (5, 5), border_mode='same'))\n",
        "model.add(Activation(\"relu\"))\n",
        "model.add(MaxPooling2D(pool_size=(2, 2)))\n",
        "model.add(Flatten())\n",
        "\n",
        "model.add(Dense(1024))\n",
        "model.add(Activation(\"relu\"))\n",
        "model.add(Dropout(0.5))\n",
        "model.add(Dense(2))\n",
        "model.add(Activation(\"softmax\"))"
      ],
      "execution_count": null,
      "outputs": []
    },
    {
      "cell_type": "code",
      "metadata": {
        "id": "CqZhpYmDm5ee"
      },
      "source": [
        "model.summary()\n",
        "model.compile(optimizer='adam', loss='binary_crossentropy', metrics=['accuracy'])"
      ],
      "execution_count": null,
      "outputs": []
    },
    {
      "cell_type": "code",
      "metadata": {
        "id": "wMFLFDlTnAbd"
      },
      "source": [
        "traindata = np.stack(X_train)\n",
        "testdata = np.stack(X_test)\n",
        "trainlabel = to_categorical(y_train)\n",
        "testlabel = to_categorical(y_test)"
      ],
      "execution_count": null,
      "outputs": []
    },
    {
      "cell_type": "code",
      "metadata": {
        "id": "YZcK9DfTnG8d"
      },
      "source": [
        "model.fit(traindata, trainlabel, epochs=15)\n",
        "print(\"Model training complete...\")"
      ],
      "execution_count": null,
      "outputs": []
    },
    {
      "cell_type": "code",
      "metadata": {
        "id": "qcAZHd2AnLbd"
      },
      "source": [
        "(loss, accuracy) = model.evaluate(testdata, testlabel, batch_size = 32, verbose = 1)\n",
        "print(\"accuracy: {:.2f}%\".format(accuracy * 100))"
      ],
      "execution_count": null,
      "outputs": []
    }
  ]
}